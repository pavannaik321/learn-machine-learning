{
  "nbformat": 4,
  "nbformat_minor": 0,
  "metadata": {
    "colab": {
      "provenance": [],
      "authorship_tag": "ABX9TyMje7pqkrxx4z1d33U8nEcp",
      "include_colab_link": true
    },
    "kernelspec": {
      "name": "python3",
      "display_name": "Python 3"
    },
    "language_info": {
      "name": "python"
    }
  },
  "cells": [
    {
      "cell_type": "markdown",
      "metadata": {
        "id": "view-in-github",
        "colab_type": "text"
      },
      "source": [
        "<a href=\"https://colab.research.google.com/github/pavannaik321/learn-machine-learning/blob/main/addition.ipynb\" target=\"_parent\"><img src=\"https://colab.research.google.com/assets/colab-badge.svg\" alt=\"Open In Colab\"/></a>"
      ]
    },
    {
      "cell_type": "code",
      "execution_count": 2,
      "metadata": {
        "colab": {
          "base_uri": "https://localhost:8080/"
        },
        "id": "faWJl-esj06x",
        "outputId": "e7dcda6b-063f-48eb-b4e1-66ac3dc8e3cf"
      },
      "outputs": [
        {
          "output_type": "stream",
          "name": "stdout",
          "text": [
            "enter first number : 10\n",
            "enter second number : 20\n",
            "addition of two number is :  30\n"
          ]
        }
      ],
      "source": [
        "a = int(input(\"enter first number : \"))\n",
        "b = int(input(\"enter second number : \"))\n",
        "print(\"addition of two number is : \" ,(a+b))"
      ]
    },
    {
      "cell_type": "markdown",
      "source": [
        "##creating function"
      ],
      "metadata": {
        "id": "4_qMOqTXlZwe"
      }
    },
    {
      "cell_type": "code",
      "source": [
        "#def function_name (parameter):\n",
        "  #statement"
      ],
      "metadata": {
        "id": "ynbbcT2ulefL"
      },
      "execution_count": 3,
      "outputs": []
    },
    {
      "cell_type": "code",
      "source": [
        "def addition( input1 ,  input2):\n",
        "  ans = input1 + input2\n",
        "  print(\"additon of two number\",ans)\n",
        "\n",
        "addition(20,30)"
      ],
      "metadata": {
        "colab": {
          "base_uri": "https://localhost:8080/"
        },
        "id": "W5yM2kACl36Z",
        "outputId": "605f12a5-b2cd-4577-ae11-ad80a15d97b7"
      },
      "execution_count": 5,
      "outputs": [
        {
          "output_type": "stream",
          "name": "stdout",
          "text": [
            "additon of two number 50\n"
          ]
        }
      ]
    },
    {
      "cell_type": "code",
      "source": [
        "import math\n",
        "def prime (input):\n",
        "  for i in range(2 , int(math.sqrt(input))):\n",
        "    if((input % i) == 0):\n",
        "      print(\"is not a prime number\")\n",
        "      return\n",
        "  print(\"its a prime number\")\n",
        "  return\n",
        "\n",
        "prime(13)"
      ],
      "metadata": {
        "colab": {
          "base_uri": "https://localhost:8080/"
        },
        "id": "WB80yBJ6m6SP",
        "outputId": "e1e43879-b308-4125-e65f-2b3ffd50d3e1"
      },
      "execution_count": 14,
      "outputs": [
        {
          "output_type": "stream",
          "name": "stdout",
          "text": [
            "its a prime number\n"
          ]
        }
      ]
    },
    {
      "cell_type": "markdown",
      "source": [
        "##code for liner regression"
      ],
      "metadata": {
        "id": "rGWJQHIJp5c3"
      }
    },
    {
      "cell_type": "code",
      "source": [
        "import numpy as np\n",
        "from sklearn.linear_model import LinearRegression\n",
        "import matplotlib.pyplot as plot\n",
        "x = [5,7,8,7,2,17,2,9,4,11,12,9,6]\n",
        "y = [99,86,87,88,111,86,103,87,94,78,77,85,86]\n",
        "\n",
        "plot.scatter(x,y)\n",
        "plot.show()\n"
      ],
      "metadata": {
        "colab": {
          "base_uri": "https://localhost:8080/",
          "height": 430
        },
        "id": "LHx5B7QMrWBR",
        "outputId": "74979d0e-8859-45b9-bc44-aef40b329766"
      },
      "execution_count": 16,
      "outputs": [
        {
          "output_type": "display_data",
          "data": {
            "text/plain": [
              "<Figure size 640x480 with 1 Axes>"
            ],
            "image/png": "[encoded data removed]"
          },
          "metadata": {}
        }
      ]
    }
  ]
}